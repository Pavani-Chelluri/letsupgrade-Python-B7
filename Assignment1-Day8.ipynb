{
 "cells": [
  {
   "cell_type": "code",
   "execution_count": 1,
   "metadata": {},
   "outputs": [],
   "source": [
    "def Input(Series_func):\n",
    "    def wrap():\n",
    "        print(\"Enter your range for the fibonacci series...\")\n",
    "        n=int(input(\"Enter your range\"))\n",
    "        Series_func(n)\n",
    "    return wrap"
   ]
  },
  {
   "cell_type": "code",
   "execution_count": 2,
   "metadata": {},
   "outputs": [],
   "source": [
    "@Input\n",
    "def Fiboacci_func(limit):\n",
    "    a=0\n",
    "    b=1\n",
    "    c=a+b\n",
    "    for i in range(limit):\n",
    "        print(a)\n",
    "        a=b\n",
    "        b=c\n",
    "        c=a+b"
   ]
  },
  {
   "cell_type": "code",
   "execution_count": 4,
   "metadata": {},
   "outputs": [
    {
     "name": "stdout",
     "output_type": "stream",
     "text": [
      "Enter your range for the fibonacci series...\n",
      "Enter your range8\n",
      "0\n",
      "1\n",
      "1\n",
      "2\n",
      "3\n",
      "5\n",
      "8\n",
      "13\n"
     ]
    }
   ],
   "source": [
    "Fiboacci_func()"
   ]
  },
  {
   "cell_type": "code",
   "execution_count": 15,
   "metadata": {},
   "outputs": [],
   "source": [
    "def Even_Odd_Input(Even_Odd):\n",
    "    def wrap_function():\n",
    "        print(\"Check Even or Odd\")\n",
    "        n=int(input(\"Enter your input \"))\n",
    "        Even_Odd(n)\n",
    "    return wrap_function"
   ]
  },
  {
   "cell_type": "code",
   "execution_count": 18,
   "metadata": {},
   "outputs": [],
   "source": [
    "@Even_Odd_Input\n",
    "def Even_Odd_Func(num):\n",
    "    if(num%2==0):\n",
    "        print(\"Even!!\")\n",
    "    else:\n",
    "        print(\"Odd!!\")"
   ]
  },
  {
   "cell_type": "code",
   "execution_count": 19,
   "metadata": {},
   "outputs": [
    {
     "name": "stdout",
     "output_type": "stream",
     "text": [
      "Check Even or Odd\n",
      "Enter your input 98\n",
      "Even!!\n"
     ]
    }
   ],
   "source": [
    "Even_Odd_Func()"
   ]
  },
  {
   "cell_type": "code",
   "execution_count": null,
   "metadata": {},
   "outputs": [],
   "source": []
  }
 ],
 "metadata": {
  "kernelspec": {
   "display_name": "Python 3",
   "language": "python",
   "name": "python3"
  },
  "language_info": {
   "codemirror_mode": {
    "name": "ipython",
    "version": 3
   },
   "file_extension": ".py",
   "mimetype": "text/x-python",
   "name": "python",
   "nbconvert_exporter": "python",
   "pygments_lexer": "ipython3",
   "version": "3.8.3"
  }
 },
 "nbformat": 4,
 "nbformat_minor": 4
}
