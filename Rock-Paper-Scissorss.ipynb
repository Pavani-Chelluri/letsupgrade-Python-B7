{
 "cells": [
  {
   "cell_type": "code",
   "execution_count": 1,
   "metadata": {},
   "outputs": [],
   "source": [
    "def GetPlayerChoice():\n",
    "    player=\"\"\n",
    "    while(not(player.lower()==\"r\" or player.lower()==\"p\" or player.lower()==\"s\")):\n",
    "        player=input(\"Enter your choice out of R-P-S: \")\n",
    "    return player.lower()"
   ]
  },
  {
   "cell_type": "code",
   "execution_count": 2,
   "metadata": {},
   "outputs": [
    {
     "name": "stdout",
     "output_type": "stream",
     "text": [
      "Enter your choice out of R-P-S: s\n"
     ]
    },
    {
     "data": {
      "text/plain": [
       "'s'"
      ]
     },
     "execution_count": 2,
     "metadata": {},
     "output_type": "execute_result"
    }
   ],
   "source": [
    "GetPlayerChoice()"
   ]
  },
  {
   "cell_type": "code",
   "execution_count": 3,
   "metadata": {},
   "outputs": [],
   "source": [
    "import random\n",
    "def GetBotChoice():\n",
    "    ch=[\"r\",\"p\",\"s\"]\n",
    "    return random.choice(ch)  "
   ]
  },
  {
   "cell_type": "code",
   "execution_count": 4,
   "metadata": {},
   "outputs": [
    {
     "data": {
      "text/plain": [
       "'p'"
      ]
     },
     "execution_count": 4,
     "metadata": {},
     "output_type": "execute_result"
    }
   ],
   "source": [
    "GetBotChoice()"
   ]
  },
  {
   "cell_type": "code",
   "execution_count": 5,
   "metadata": {},
   "outputs": [],
   "source": [
    "def CheckWinner(player,bot):\n",
    "    if(player=='r' and bot=='r'):\n",
    "        return \"Draw\"\n",
    "    elif(player=='s' and bot=='s'):\n",
    "        return \"Draw\"\n",
    "    elif(player=='p' and bot=='p'):\n",
    "        return \"Draw\"\n",
    "    elif(player=='r' and bot=='p'):\n",
    "        return \"Bot\"\n",
    "    elif(player=='p' and bot=='r'):\n",
    "        return \"Palyer\"\n",
    "    elif(player=='s' and bot=='r'):\n",
    "        return \"Bot\"\n",
    "    elif(player=='r' and bot=='s'):\n",
    "        return \"Player\"\n",
    "    elif(player=='p' and bot=='s'):\n",
    "        return \"Bot\"\n",
    "    elif(player=='s' and bot=='p'):\n",
    "        return \"Player\""
   ]
  },
  {
   "cell_type": "code",
   "execution_count": 6,
   "metadata": {},
   "outputs": [
    {
     "data": {
      "text/plain": [
       "'Bot'"
      ]
     },
     "execution_count": 6,
     "metadata": {},
     "output_type": "execute_result"
    }
   ],
   "source": [
    "CheckWinner('p','s')"
   ]
  },
  {
   "cell_type": "code",
   "execution_count": 7,
   "metadata": {},
   "outputs": [],
   "source": [
    "def RockPaperScissors():\n",
    "    endthegame=\"n\"\n",
    "    while(endthegame!=\"y\"):\n",
    "        playerscore=0\n",
    "        botscore=0\n",
    "        ply=GetPlayerChoice()\n",
    "        bt=GetBotChoice()\n",
    "        print(\"Bot Entered \",bt)\n",
    "        winner=CheckWinner(ply,bt)\n",
    "        if(winner==\"Player\"):\n",
    "            playerscore=playerscore+2\n",
    "        elif(winner==\"Draw\"):\n",
    "            playerscore+=1\n",
    "            botscore+=1\n",
    "        else:\n",
    "            botscore=botscore+2\n",
    "        print(\"-------SCORE BOARD----------\")\n",
    "        print(\"Player_Score = \",playerscore)\n",
    "        print(\"Bot_Score = \",botscore)\n",
    "        if(winner==\"Draw\"):\n",
    "            print(\"Game is Draw\")\n",
    "        else:\n",
    "            print(\"Winner is \",winner)\n",
    "        endthegame=input(\"End The Game??? \")\n",
    "        if(endthegame==\"y\"):\n",
    "            print(\"Thank You for Playing!!Come Again!!\")"
   ]
  },
  {
   "cell_type": "code",
   "execution_count": 8,
   "metadata": {},
   "outputs": [
    {
     "name": "stdout",
     "output_type": "stream",
     "text": [
      "Enter your choice out of R-P-S: s\n",
      "Bot Entered  r\n",
      "-------SCORE BOARD----------\n",
      "Player_Score =  0\n",
      "Bot_Score =  2\n",
      "Winner is  Bot\n",
      "End The Game??? n\n",
      "Enter your choice out of R-P-S: r\n",
      "Bot Entered  r\n",
      "-------SCORE BOARD----------\n",
      "Player_Score =  1\n",
      "Bot_Score =  1\n",
      "Game is Draw\n",
      "End The Game??? n\n",
      "Enter your choice out of R-P-S: p\n",
      "Bot Entered  r\n",
      "-------SCORE BOARD----------\n",
      "Player_Score =  0\n",
      "Bot_Score =  2\n",
      "Winner is  Palyer\n",
      "End The Game??? n\n",
      "Enter your choice out of R-P-S: s\n",
      "Bot Entered  r\n",
      "-------SCORE BOARD----------\n",
      "Player_Score =  0\n",
      "Bot_Score =  2\n",
      "Winner is  Bot\n",
      "End The Game??? n\n",
      "Enter your choice out of R-P-S: r\n",
      "Bot Entered  r\n",
      "-------SCORE BOARD----------\n",
      "Player_Score =  1\n",
      "Bot_Score =  1\n",
      "Game is Draw\n",
      "End The Game??? \n",
      "Enter your choice out of R-P-S: p\n",
      "Bot Entered  r\n",
      "-------SCORE BOARD----------\n",
      "Player_Score =  0\n",
      "Bot_Score =  2\n",
      "Winner is  Palyer\n",
      "End The Game??? y\n",
      "Thank You for Playing!!Come Again!!\n"
     ]
    }
   ],
   "source": [
    "RockPaperScissors()"
   ]
  },
  {
   "cell_type": "code",
   "execution_count": null,
   "metadata": {},
   "outputs": [],
   "source": []
  }
 ],
 "metadata": {
  "kernelspec": {
   "display_name": "Python 3",
   "language": "python",
   "name": "python3"
  },
  "language_info": {
   "codemirror_mode": {
    "name": "ipython",
    "version": 3
   },
   "file_extension": ".py",
   "mimetype": "text/x-python",
   "name": "python",
   "nbconvert_exporter": "python",
   "pygments_lexer": "ipython3",
   "version": "3.8.3"
  }
 },
 "nbformat": 4,
 "nbformat_minor": 4
}
