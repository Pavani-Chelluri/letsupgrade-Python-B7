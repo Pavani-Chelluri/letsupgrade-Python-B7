{
 "cells": [
  {
   "cell_type": "markdown",
   "metadata": {},
   "source": [
    "# Bank Account Class "
   ]
  },
  {
   "cell_type": "code",
   "execution_count": 1,
   "metadata": {},
   "outputs": [],
   "source": [
    "class Bank_Account: \n",
    "    def __init__(self): \n",
    "        self.balance=0\n",
    "        self.ownername=input(\"Enter your name:\")\n",
    "        print(\"Hello\",self.ownername) \n",
    "    def deposit(self): \n",
    "        amount=int(input(\"Enter amount to be Deposited: \"))\n",
    "        self.balance += amount \n",
    "        print(\"\\n Amount Deposited:\",amount)\n",
    "        print(\"\\n Net Available Balance=\",self.balance)\n",
    "        print(\"\\n Thank you for visiting:)\")\n",
    "    def withdraw(self): \n",
    "        amount = int(input(\"Enter amount to be Withdrawn: \"))\n",
    "        if self.balance>=amount: \n",
    "            self.balance-=amount \n",
    "            print(\"\\n You Withdrew:\", amount)\n",
    "            print(\"\\n Net Available Balance=\",self.balance)\n",
    "            print(\"\\n Thank you for visiting:)\")\n",
    "        else: \n",
    "            print(\"\\n Insufficient balance  \")"
   ]
  },
  {
   "cell_type": "code",
   "execution_count": 2,
   "metadata": {},
   "outputs": [
    {
     "name": "stdout",
     "output_type": "stream",
     "text": [
      "Enter your name:Venus\n",
      "Hello Venus\n"
     ]
    }
   ],
   "source": [
    "obj=Bank_Account()"
   ]
  },
  {
   "cell_type": "code",
   "execution_count": 3,
   "metadata": {},
   "outputs": [
    {
     "name": "stdout",
     "output_type": "stream",
     "text": [
      "Enter amount to be Deposited: 100000\n",
      "\n",
      " Amount Deposited: 100000\n",
      "\n",
      " Net Available Balance= 100000\n",
      "\n",
      " Thank you for visiting:)\n"
     ]
    }
   ],
   "source": [
    "obj.deposit()"
   ]
  },
  {
   "cell_type": "code",
   "execution_count": 4,
   "metadata": {},
   "outputs": [
    {
     "name": "stdout",
     "output_type": "stream",
     "text": [
      "Enter amount to be Withdrawn: 100000000\n",
      "\n",
      " Insufficient balance  \n"
     ]
    }
   ],
   "source": [
    "obj.withdraw()"
   ]
  },
  {
   "cell_type": "code",
   "execution_count": 5,
   "metadata": {},
   "outputs": [
    {
     "name": "stdout",
     "output_type": "stream",
     "text": [
      "Enter amount to be Withdrawn: 1000\n",
      "\n",
      " You Withdrew: 1000\n",
      "\n",
      " Net Available Balance= 99000\n",
      "\n",
      " Thank you for visiting:)\n"
     ]
    }
   ],
   "source": [
    "obj.withdraw()"
   ]
  },
  {
   "cell_type": "markdown",
   "metadata": {},
   "source": [
    "# Volume and Surface Area of a cone"
   ]
  },
  {
   "cell_type": "code",
   "execution_count": 33,
   "metadata": {},
   "outputs": [],
   "source": [
    "import math\n",
    "class Cone:\n",
    "    def __init__(self): \n",
    "        self.radius=float(input(\"Enter the radius of the cone\"))\n",
    "        self.height=float(input(\"Enter the height of the cone:\"))\n",
    "    def Find_volume(self):\n",
    "        volume=0\n",
    "        r=self.radius\n",
    "        h=self.height\n",
    "        volume=(math.pi)*(r**2)*(h/3)\n",
    "        print(\"Volume of the cone is\",volume)\n",
    "    def Find_surface_area(self):\n",
    "        r=self.radius\n",
    "        h=self.height\n",
    "        l = math.sqrt(r*r+h*h)\n",
    "        SA = math.pi*r*(r + l)\n",
    "        print(\"Surface area of the cone is\",SA)"
   ]
  },
  {
   "cell_type": "code",
   "execution_count": 34,
   "metadata": {},
   "outputs": [
    {
     "name": "stdout",
     "output_type": "stream",
     "text": [
      "Enter the radius of the cone4\n",
      "Enter the height of the cone:5\n"
     ]
    }
   ],
   "source": [
    "shape=Cone()"
   ]
  },
  {
   "cell_type": "code",
   "execution_count": 35,
   "metadata": {},
   "outputs": [
    {
     "name": "stdout",
     "output_type": "stream",
     "text": [
      "Volume of the cone is 83.77580409572782\n"
     ]
    }
   ],
   "source": [
    "shape.Find_volume()"
   ]
  },
  {
   "cell_type": "code",
   "execution_count": 36,
   "metadata": {},
   "outputs": [
    {
     "name": "stdout",
     "output_type": "stream",
     "text": [
      "Surface area of the cone is 130.72951471480383\n"
     ]
    }
   ],
   "source": [
    "shape.Find_surface_area()"
   ]
  }
 ],
 "metadata": {
  "kernelspec": {
   "display_name": "Python 3",
   "language": "python",
   "name": "python3"
  },
  "language_info": {
   "codemirror_mode": {
    "name": "ipython",
    "version": 3
   },
   "file_extension": ".py",
   "mimetype": "text/x-python",
   "name": "python",
   "nbconvert_exporter": "python",
   "pygments_lexer": "ipython3",
   "version": "3.8.3"
  }
 },
 "nbformat": 4,
 "nbformat_minor": 4
}
